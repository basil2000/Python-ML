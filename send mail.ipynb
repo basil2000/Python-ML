{
 "cells": [
  {
   "cell_type": "code",
   "execution_count": 13,
   "metadata": {},
   "outputs": [],
   "source": [
    "import smtplib\n",
    "import getpass\n",
    "from email.mime.text import MIMEText\n",
    "\n"
   ]
  },
  {
   "cell_type": "code",
   "execution_count": 14,
   "metadata": {},
   "outputs": [],
   "source": [
    "def sendm():\n",
    "    \n",
    "    password=getpass.getpass()\n",
    "    \n",
    "    \n",
    "    subject='subject'\n",
    "    msg='msg'\n",
    "    sender='basilperukilath@gmail.com'\n",
    "    rec=['basilperukilath@gmail.com']\n",
    "    \n",
    "    msg= MIMEText(msg)\n",
    "    msg['Subject']=subject\n",
    "    msg['To']=', '.join(rec)\n",
    "    msg['From']=sender\n",
    "    \n",
    "    ## setting server\n",
    "    \n",
    "    server=smtplib.SMTP('smtp.gmail.com',587)\n",
    "    server.starttls()\n",
    "    server.login(sender,password)\n",
    "    \n",
    "    server.sendmail(sender,rec,msg.as_string())\n",
    "    \n",
    "    \n",
    "    "
   ]
  },
  {
   "cell_type": "code",
   "execution_count": 15,
   "metadata": {},
   "outputs": [
    {
     "name": "stdout",
     "output_type": "stream",
     "text": [
      "········\n"
     ]
    }
   ],
   "source": [
    "sendm()"
   ]
  },
  {
   "cell_type": "code",
   "execution_count": null,
   "metadata": {},
   "outputs": [],
   "source": []
  },
  {
   "cell_type": "code",
   "execution_count": null,
   "metadata": {},
   "outputs": [],
   "source": []
  }
 ],
 "metadata": {
  "kernelspec": {
   "display_name": "Python 3",
   "language": "python",
   "name": "python3"
  },
  "language_info": {
   "codemirror_mode": {
    "name": "ipython",
    "version": 3
   },
   "file_extension": ".py",
   "mimetype": "text/x-python",
   "name": "python",
   "nbconvert_exporter": "python",
   "pygments_lexer": "ipython3",
   "version": "3.8.5"
  }
 },
 "nbformat": 4,
 "nbformat_minor": 4
}
